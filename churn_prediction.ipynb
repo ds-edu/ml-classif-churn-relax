{
 "cells": [
  {
   "cell_type": "code",
   "execution_count": 329,
   "id": "df6d7831",
   "metadata": {},
   "outputs": [],
   "source": [
    "import pandas as pd\n",
    "import numpy as np"
   ]
  },
  {
   "cell_type": "code",
   "execution_count": 330,
   "id": "12766082",
   "metadata": {},
   "outputs": [],
   "source": [
    "random_seed = 33\n",
    "np.random.seed(random_seed)"
   ]
  },
  {
   "cell_type": "code",
   "execution_count": 331,
   "id": "c6e18375",
   "metadata": {},
   "outputs": [],
   "source": [
    "users = pd.read_csv('data/users.csv', encoding='iso-8859-1')\n",
    "engagement = pd.read_csv('data/user_engagement.csv', encoding='iso-8859-1')"
   ]
  },
  {
   "cell_type": "code",
   "execution_count": 332,
   "id": "d77bd869",
   "metadata": {},
   "outputs": [
    {
     "data": {
      "text/plain": [
       "((12000, 10), (207917, 3))"
      ]
     },
     "execution_count": 332,
     "metadata": {},
     "output_type": "execute_result"
    }
   ],
   "source": [
    "users.shape, engagement.shape"
   ]
  },
  {
   "cell_type": "code",
   "execution_count": 333,
   "id": "956f91b6",
   "metadata": {},
   "outputs": [
    {
     "data": {
      "text/html": [
       "<div>\n",
       "<style scoped>\n",
       "    .dataframe tbody tr th:only-of-type {\n",
       "        vertical-align: middle;\n",
       "    }\n",
       "\n",
       "    .dataframe tbody tr th {\n",
       "        vertical-align: top;\n",
       "    }\n",
       "\n",
       "    .dataframe thead th {\n",
       "        text-align: right;\n",
       "    }\n",
       "</style>\n",
       "<table border=\"1\" class=\"dataframe\">\n",
       "  <thead>\n",
       "    <tr style=\"text-align: right;\">\n",
       "      <th></th>\n",
       "      <th>object_id</th>\n",
       "      <th>creation_time</th>\n",
       "      <th>name</th>\n",
       "      <th>email</th>\n",
       "      <th>creation_source</th>\n",
       "      <th>last_session_creation_time</th>\n",
       "      <th>opted_in_to_mailing_list</th>\n",
       "      <th>enabled_for_marketing_drip</th>\n",
       "      <th>org_id</th>\n",
       "      <th>invited_by_user_id</th>\n",
       "    </tr>\n",
       "  </thead>\n",
       "  <tbody>\n",
       "    <tr>\n",
       "      <th>0</th>\n",
       "      <td>1</td>\n",
       "      <td>2014-04-22 03:53:30</td>\n",
       "      <td>Clausen August</td>\n",
       "      <td>AugustCClausen@yahoo.com</td>\n",
       "      <td>GUEST_INVITE</td>\n",
       "      <td>1.398139e+09</td>\n",
       "      <td>1</td>\n",
       "      <td>0</td>\n",
       "      <td>11</td>\n",
       "      <td>10803.0</td>\n",
       "    </tr>\n",
       "    <tr>\n",
       "      <th>1</th>\n",
       "      <td>2</td>\n",
       "      <td>2013-11-15 03:45:04</td>\n",
       "      <td>Poole Matthew</td>\n",
       "      <td>MatthewPoole@gustr.com</td>\n",
       "      <td>ORG_INVITE</td>\n",
       "      <td>1.396238e+09</td>\n",
       "      <td>0</td>\n",
       "      <td>0</td>\n",
       "      <td>1</td>\n",
       "      <td>316.0</td>\n",
       "    </tr>\n",
       "  </tbody>\n",
       "</table>\n",
       "</div>"
      ],
      "text/plain": [
       "   object_id        creation_time            name                     email  \\\n",
       "0          1  2014-04-22 03:53:30  Clausen August  AugustCClausen@yahoo.com   \n",
       "1          2  2013-11-15 03:45:04   Poole Matthew    MatthewPoole@gustr.com   \n",
       "\n",
       "  creation_source  last_session_creation_time  opted_in_to_mailing_list  \\\n",
       "0    GUEST_INVITE                1.398139e+09                         1   \n",
       "1      ORG_INVITE                1.396238e+09                         0   \n",
       "\n",
       "   enabled_for_marketing_drip  org_id  invited_by_user_id  \n",
       "0                           0      11             10803.0  \n",
       "1                           0       1               316.0  "
      ]
     },
     "execution_count": 333,
     "metadata": {},
     "output_type": "execute_result"
    }
   ],
   "source": [
    "users.head(2)"
   ]
  },
  {
   "cell_type": "code",
   "execution_count": 334,
   "id": "51493b2b",
   "metadata": {},
   "outputs": [
    {
     "name": "stdout",
     "output_type": "stream",
     "text": [
      "<class 'pandas.core.frame.DataFrame'>\n",
      "RangeIndex: 12000 entries, 0 to 11999\n",
      "Data columns (total 10 columns):\n",
      " #   Column                      Non-Null Count  Dtype  \n",
      "---  ------                      --------------  -----  \n",
      " 0   object_id                   12000 non-null  int64  \n",
      " 1   creation_time               12000 non-null  object \n",
      " 2   name                        12000 non-null  object \n",
      " 3   email                       12000 non-null  object \n",
      " 4   creation_source             12000 non-null  object \n",
      " 5   last_session_creation_time  8823 non-null   float64\n",
      " 6   opted_in_to_mailing_list    12000 non-null  int64  \n",
      " 7   enabled_for_marketing_drip  12000 non-null  int64  \n",
      " 8   org_id                      12000 non-null  int64  \n",
      " 9   invited_by_user_id          6417 non-null   float64\n",
      "dtypes: float64(2), int64(4), object(4)\n",
      "memory usage: 937.6+ KB\n",
      "<class 'pandas.core.frame.DataFrame'>\n",
      "RangeIndex: 207917 entries, 0 to 207916\n",
      "Data columns (total 3 columns):\n",
      " #   Column      Non-Null Count   Dtype \n",
      "---  ------      --------------   ----- \n",
      " 0   time_stamp  207917 non-null  object\n",
      " 1   user_id     207917 non-null  int64 \n",
      " 2   visited     207917 non-null  int64 \n",
      "dtypes: int64(2), object(1)\n",
      "memory usage: 4.8+ MB\n"
     ]
    },
    {
     "data": {
      "text/plain": [
       "(None, None)"
      ]
     },
     "execution_count": 334,
     "metadata": {},
     "output_type": "execute_result"
    }
   ],
   "source": [
    "users.info(), engagement.info()"
   ]
  },
  {
   "cell_type": "code",
   "execution_count": 335,
   "id": "62902385",
   "metadata": {},
   "outputs": [],
   "source": [
    "# Convert to timestams\n",
    "users['creation_time'] = pd.to_datetime(users['creation_time'], format='%Y-%m-%d %H:%M:%S')\n",
    "engagement['time_stamp'] = pd.to_datetime(engagement['time_stamp'], format='%Y-%m-%d %H:%M:%S')"
   ]
  },
  {
   "cell_type": "code",
   "execution_count": 336,
   "id": "0f5135cf",
   "metadata": {},
   "outputs": [],
   "source": [
    "# Rename and re-type columns\n",
    "users = users.rename(columns={'object_id': 'user_id'})\n",
    "users['opted_in_to_mailing_list'] = users['opted_in_to_mailing_list'].astype(bool)\n",
    "users['enabled_for_marketing_drip'] = users['enabled_for_marketing_drip'].astype(bool)\n",
    "users['org_id'] = users['org_id'].astype('category')"
   ]
  },
  {
   "cell_type": "code",
   "execution_count": 337,
   "id": "e55aebfe",
   "metadata": {},
   "outputs": [
    {
     "name": "stdout",
     "output_type": "stream",
     "text": [
      "<class 'pandas.core.frame.DataFrame'>\n",
      "RangeIndex: 12000 entries, 0 to 11999\n",
      "Data columns (total 10 columns):\n",
      " #   Column                      Non-Null Count  Dtype         \n",
      "---  ------                      --------------  -----         \n",
      " 0   user_id                     12000 non-null  int64         \n",
      " 1   creation_time               12000 non-null  datetime64[ns]\n",
      " 2   name                        12000 non-null  object        \n",
      " 3   email                       12000 non-null  object        \n",
      " 4   creation_source             12000 non-null  object        \n",
      " 5   last_session_creation_time  8823 non-null   float64       \n",
      " 6   opted_in_to_mailing_list    12000 non-null  bool          \n",
      " 7   enabled_for_marketing_drip  12000 non-null  bool          \n",
      " 8   org_id                      12000 non-null  category      \n",
      " 9   invited_by_user_id          6417 non-null   float64       \n",
      "dtypes: bool(2), category(1), datetime64[ns](1), float64(2), int64(1), object(3)\n",
      "memory usage: 722.7+ KB\n",
      "<class 'pandas.core.frame.DataFrame'>\n",
      "RangeIndex: 207917 entries, 0 to 207916\n",
      "Data columns (total 3 columns):\n",
      " #   Column      Non-Null Count   Dtype         \n",
      "---  ------      --------------   -----         \n",
      " 0   time_stamp  207917 non-null  datetime64[ns]\n",
      " 1   user_id     207917 non-null  int64         \n",
      " 2   visited     207917 non-null  int64         \n",
      "dtypes: datetime64[ns](1), int64(2)\n",
      "memory usage: 4.8 MB\n"
     ]
    },
    {
     "data": {
      "text/plain": [
       "(None, None)"
      ]
     },
     "execution_count": 337,
     "metadata": {},
     "output_type": "execute_result"
    }
   ],
   "source": [
    "users.info(), engagement.info()"
   ]
  },
  {
   "cell_type": "code",
   "execution_count": 338,
   "id": "3dd046cf",
   "metadata": {},
   "outputs": [
    {
     "data": {
      "text/html": [
       "<div>\n",
       "<style scoped>\n",
       "    .dataframe tbody tr th:only-of-type {\n",
       "        vertical-align: middle;\n",
       "    }\n",
       "\n",
       "    .dataframe tbody tr th {\n",
       "        vertical-align: top;\n",
       "    }\n",
       "\n",
       "    .dataframe thead th {\n",
       "        text-align: right;\n",
       "    }\n",
       "</style>\n",
       "<table border=\"1\" class=\"dataframe\">\n",
       "  <thead>\n",
       "    <tr style=\"text-align: right;\">\n",
       "      <th></th>\n",
       "      <th>time_stamp</th>\n",
       "      <th>user_id</th>\n",
       "      <th>visited</th>\n",
       "    </tr>\n",
       "  </thead>\n",
       "  <tbody>\n",
       "    <tr>\n",
       "      <th>0</th>\n",
       "      <td>2014-04-22 03:53:30</td>\n",
       "      <td>1</td>\n",
       "      <td>1</td>\n",
       "    </tr>\n",
       "    <tr>\n",
       "      <th>1</th>\n",
       "      <td>2013-11-15 03:45:04</td>\n",
       "      <td>2</td>\n",
       "      <td>1</td>\n",
       "    </tr>\n",
       "    <tr>\n",
       "      <th>2</th>\n",
       "      <td>2013-11-29 03:45:04</td>\n",
       "      <td>2</td>\n",
       "      <td>1</td>\n",
       "    </tr>\n",
       "    <tr>\n",
       "      <th>3</th>\n",
       "      <td>2013-12-09 03:45:04</td>\n",
       "      <td>2</td>\n",
       "      <td>1</td>\n",
       "    </tr>\n",
       "    <tr>\n",
       "      <th>4</th>\n",
       "      <td>2013-12-25 03:45:04</td>\n",
       "      <td>2</td>\n",
       "      <td>1</td>\n",
       "    </tr>\n",
       "    <tr>\n",
       "      <th>5</th>\n",
       "      <td>2013-12-31 03:45:04</td>\n",
       "      <td>2</td>\n",
       "      <td>1</td>\n",
       "    </tr>\n",
       "    <tr>\n",
       "      <th>6</th>\n",
       "      <td>2014-01-08 03:45:04</td>\n",
       "      <td>2</td>\n",
       "      <td>1</td>\n",
       "    </tr>\n",
       "    <tr>\n",
       "      <th>7</th>\n",
       "      <td>2014-02-03 03:45:04</td>\n",
       "      <td>2</td>\n",
       "      <td>1</td>\n",
       "    </tr>\n",
       "    <tr>\n",
       "      <th>8</th>\n",
       "      <td>2014-02-08 03:45:04</td>\n",
       "      <td>2</td>\n",
       "      <td>1</td>\n",
       "    </tr>\n",
       "    <tr>\n",
       "      <th>9</th>\n",
       "      <td>2014-02-09 03:45:04</td>\n",
       "      <td>2</td>\n",
       "      <td>1</td>\n",
       "    </tr>\n",
       "    <tr>\n",
       "      <th>10</th>\n",
       "      <td>2014-02-13 03:45:04</td>\n",
       "      <td>2</td>\n",
       "      <td>1</td>\n",
       "    </tr>\n",
       "    <tr>\n",
       "      <th>11</th>\n",
       "      <td>2014-02-16 03:45:04</td>\n",
       "      <td>2</td>\n",
       "      <td>1</td>\n",
       "    </tr>\n",
       "    <tr>\n",
       "      <th>12</th>\n",
       "      <td>2014-03-09 03:45:04</td>\n",
       "      <td>2</td>\n",
       "      <td>1</td>\n",
       "    </tr>\n",
       "    <tr>\n",
       "      <th>13</th>\n",
       "      <td>2014-03-13 03:45:04</td>\n",
       "      <td>2</td>\n",
       "      <td>1</td>\n",
       "    </tr>\n",
       "    <tr>\n",
       "      <th>14</th>\n",
       "      <td>2014-03-31 03:45:04</td>\n",
       "      <td>2</td>\n",
       "      <td>1</td>\n",
       "    </tr>\n",
       "    <tr>\n",
       "      <th>15</th>\n",
       "      <td>2013-03-19 23:14:52</td>\n",
       "      <td>3</td>\n",
       "      <td>1</td>\n",
       "    </tr>\n",
       "    <tr>\n",
       "      <th>16</th>\n",
       "      <td>2013-05-22 08:09:28</td>\n",
       "      <td>4</td>\n",
       "      <td>1</td>\n",
       "    </tr>\n",
       "    <tr>\n",
       "      <th>17</th>\n",
       "      <td>2013-01-22 10:14:20</td>\n",
       "      <td>5</td>\n",
       "      <td>1</td>\n",
       "    </tr>\n",
       "    <tr>\n",
       "      <th>18</th>\n",
       "      <td>2013-12-19 03:37:06</td>\n",
       "      <td>6</td>\n",
       "      <td>1</td>\n",
       "    </tr>\n",
       "    <tr>\n",
       "      <th>19</th>\n",
       "      <td>2012-12-20 13:24:32</td>\n",
       "      <td>7</td>\n",
       "      <td>1</td>\n",
       "    </tr>\n",
       "  </tbody>\n",
       "</table>\n",
       "</div>"
      ],
      "text/plain": [
       "            time_stamp  user_id  visited\n",
       "0  2014-04-22 03:53:30        1        1\n",
       "1  2013-11-15 03:45:04        2        1\n",
       "2  2013-11-29 03:45:04        2        1\n",
       "3  2013-12-09 03:45:04        2        1\n",
       "4  2013-12-25 03:45:04        2        1\n",
       "5  2013-12-31 03:45:04        2        1\n",
       "6  2014-01-08 03:45:04        2        1\n",
       "7  2014-02-03 03:45:04        2        1\n",
       "8  2014-02-08 03:45:04        2        1\n",
       "9  2014-02-09 03:45:04        2        1\n",
       "10 2014-02-13 03:45:04        2        1\n",
       "11 2014-02-16 03:45:04        2        1\n",
       "12 2014-03-09 03:45:04        2        1\n",
       "13 2014-03-13 03:45:04        2        1\n",
       "14 2014-03-31 03:45:04        2        1\n",
       "15 2013-03-19 23:14:52        3        1\n",
       "16 2013-05-22 08:09:28        4        1\n",
       "17 2013-01-22 10:14:20        5        1\n",
       "18 2013-12-19 03:37:06        6        1\n",
       "19 2012-12-20 13:24:32        7        1"
      ]
     },
     "execution_count": 338,
     "metadata": {},
     "output_type": "execute_result"
    }
   ],
   "source": [
    "engagement.head(20)"
   ]
  },
  {
   "cell_type": "markdown",
   "id": "aaca0ab7",
   "metadata": {},
   "source": [
    "> Based on this engagement data, User id =2 should be tagged as a user who adopted. \\\n",
    "> Assert later that adopoion for user_id == 2 should be True"
   ]
  },
  {
   "cell_type": "code",
   "execution_count": 339,
   "id": "a35992c6",
   "metadata": {},
   "outputs": [],
   "source": [
    "#Group by user id\n",
    "eng_gby_user = engagement.groupby('user_id')"
   ]
  },
  {
   "cell_type": "code",
   "execution_count": 340,
   "id": "116ba267",
   "metadata": {},
   "outputs": [
    {
     "name": "stdout",
     "output_type": "stream",
     "text": [
      "User ID: 1, Engagement Records: Index([0], dtype='int64')\n",
      "User ID: 2, Engagement Records: Index([1, 2, 3, 4, 5, 6, 7, 8, 9, 10, 11, 12, 13, 14], dtype='int64')\n",
      "User ID: 3, Engagement Records: Index([15], dtype='int64')\n"
     ]
    }
   ],
   "source": [
    "for k, v in list(eng_gby_user.groups.items())[:3]:\n",
    "    print(f\"User ID: {k}, Engagement Records: {v}\")\n"
   ]
  },
  {
   "cell_type": "code",
   "execution_count": 341,
   "id": "6914e1da",
   "metadata": {},
   "outputs": [
    {
     "name": "stderr",
     "output_type": "stream",
     "text": [
      "/tmp/ipykernel_58772/4008739695.py:2: DeprecationWarning: DataFrameGroupBy.apply operated on the grouping columns. This behavior is deprecated, and in a future version of pandas the grouping columns will be excluded from the operation. Either pass `include_groups=False` to exclude the groupings or explicitly select the grouping columns after groupby to silence this warning.\n",
      "  eng_by_user  = eng_gby_user.apply(lambda x: x.sort_values('time_stamp').reset_index(drop=True))\n"
     ]
    }
   ],
   "source": [
    "# Sort by timestamp with each user\n",
    "eng_by_user  = eng_gby_user.apply(lambda x: x.sort_values('time_stamp').reset_index(drop=True))"
   ]
  },
  {
   "cell_type": "code",
   "execution_count": 342,
   "id": "058a8b2c",
   "metadata": {},
   "outputs": [],
   "source": [
    "# Use udf to check user adoption based on the given criteria\n",
    "def is_adopted(data_df):\n",
    "\n",
    "    # if there are less than 3 records, the user is not adopted    \n",
    "    if len(data_df) < 3:\n",
    "        return False\n",
    "\n",
    "    # Sort + loop at time stamps. Check if there are at least 3 records within 7 day period\n",
    "    data_df = data_df.sort_values('time_stamp')\n",
    "    \n",
    "    for i in range(len(data_df) - 2):\n",
    "\n",
    "        # Check date diff is lte to 7 days\n",
    "        if data_df['time_stamp'].iloc[i + 2] - data_df['time_stamp'].iloc[i] <= pd.Timedelta(days=7):\n",
    "            return True\n",
    "\n",
    "    return False"
   ]
  },
  {
   "cell_type": "code",
   "execution_count": 343,
   "id": "f9ea8f43",
   "metadata": {},
   "outputs": [],
   "source": [
    "# def user_adopted(data_df):\n",
    "#     data_df = data_df.sort_values('time_stamp')\n",
    "#     for i in range(len(data_df) - 2):\n",
    "#         if (data_df['time_stamp'].iloc[i+2] - data_df['time_stamp'].iloc[i]).days <= 7:\n",
    "#             return 1\n",
    "#     return 0"
   ]
  },
  {
   "cell_type": "code",
   "execution_count": 344,
   "id": "3457cd34",
   "metadata": {},
   "outputs": [],
   "source": [
    "# df_adoption = engagement.groupby('user_id').apply(user_adopted).reset_index().rename(columns={0: 'adopted'})\n",
    "# df_adoption.adopted.value_counts()"
   ]
  },
  {
   "cell_type": "code",
   "execution_count": 345,
   "id": "8725b9f1",
   "metadata": {},
   "outputs": [
    {
     "name": "stderr",
     "output_type": "stream",
     "text": [
      "/tmp/ipykernel_58772/90698122.py:2: DeprecationWarning: DataFrameGroupBy.apply operated on the grouping columns. This behavior is deprecated, and in a future version of pandas the grouping columns will be excluded from the operation. Either pass `include_groups=False` to exclude the groupings or explicitly select the grouping columns after groupby to silence this warning.\n",
      "  eng_by_user_adopted  = eng_gby_user.apply(is_adopted).reset_index()\n"
     ]
    },
    {
     "data": {
      "text/plain": [
       "adopted\n",
       "False    7167\n",
       "True     1656\n",
       "Name: count, dtype: int64"
      ]
     },
     "execution_count": 345,
     "metadata": {},
     "output_type": "execute_result"
    }
   ],
   "source": [
    "# Apply udf and check user adoption counts\n",
    "eng_by_user_adopted  = eng_gby_user.apply(is_adopted).reset_index()\n",
    "eng_by_user_adopted = eng_by_user_adopted.rename(columns={0: 'adopted'})\n",
    "eng_by_user_adopted.adopted.value_counts()"
   ]
  },
  {
   "cell_type": "code",
   "execution_count": 346,
   "id": "6162958a",
   "metadata": {},
   "outputs": [],
   "source": [
    "# count_adopted_users = len(eng_by_user_adopted[eng_by_user_adopted.adopted == True])\n",
    "# print(f\"Number of adopted users: {count_adopted_users}\")\n",
    "# ratio_adopted_users = count_adopted_users / len(users)\n",
    "# print(f\"Ratio of adopted users: {ratio_adopted_users:.2%}\")"
   ]
  },
  {
   "cell_type": "code",
   "execution_count": 347,
   "id": "e9924d20",
   "metadata": {},
   "outputs": [
    {
     "data": {
      "text/plain": [
       "user_id\n",
       "1     1\n",
       "10    1\n",
       "23    1\n",
       "22    1\n",
       "3     1\n",
       "Name: count, dtype: int64"
      ]
     },
     "execution_count": 347,
     "metadata": {},
     "output_type": "execute_result"
    }
   ],
   "source": [
    "# Pre-merge, verify_ids are unique \n",
    "users.user_id.value_counts().sort_values(ascending=False).head(5)"
   ]
  },
  {
   "cell_type": "code",
   "execution_count": 348,
   "id": "a545a7a4",
   "metadata": {},
   "outputs": [
    {
     "name": "stderr",
     "output_type": "stream",
     "text": [
      "/tmp/ipykernel_58772/3867807166.py:3: FutureWarning: Downcasting object dtype arrays on .fillna, .ffill, .bfill is deprecated and will change in a future version. Call result.infer_objects(copy=False) instead. To opt-in to the future behavior, set `pd.set_option('future.no_silent_downcasting', True)`\n",
      "  user_adoption['adopted'] = user_adoption['adopted'].fillna(False)\n"
     ]
    }
   ],
   "source": [
    "# Merge the label with the users\n",
    "user_adoption = pd.merge(users, eng_by_user_adopted, on='user_id', how='left')\n",
    "user_adoption['adopted'] = user_adoption['adopted'].fillna(False)"
   ]
  },
  {
   "cell_type": "code",
   "execution_count": 349,
   "id": "2ef083a5",
   "metadata": {},
   "outputs": [
    {
     "name": "stdout",
     "output_type": "stream",
     "text": [
      "Percentage of missing values in each column:\n",
      "user_id                        0.000\n",
      "creation_time                  0.000\n",
      "name                           0.000\n",
      "email                          0.000\n",
      "creation_source                0.000\n",
      "last_session_creation_time    26.475\n",
      "opted_in_to_mailing_list       0.000\n",
      "enabled_for_marketing_drip     0.000\n",
      "org_id                         0.000\n",
      "invited_by_user_id            46.525\n",
      "adopted                        0.000\n",
      "dtype: float64\n"
     ]
    }
   ],
   "source": [
    "# % Missing values in the user_adoption dataset\n",
    "missing_values = user_adoption.isna().sum()\n",
    "missing_values_percentage = (missing_values / len(user_adoption)) * 100\n",
    "print(\"Percentage of missing values in each column:\")\n",
    "print(missing_values_percentage)"
   ]
  },
  {
   "cell_type": "code",
   "execution_count": 350,
   "id": "14c60fed",
   "metadata": {},
   "outputs": [
    {
     "data": {
      "text/plain": [
       "adopted\n",
       "False    10344\n",
       "True      1656\n",
       "Name: count, dtype: int64"
      ]
     },
     "execution_count": 350,
     "metadata": {},
     "output_type": "execute_result"
    }
   ],
   "source": [
    "user_adoption.adopted.value_counts()"
   ]
  },
  {
   "cell_type": "code",
   "execution_count": 351,
   "id": "1add12f8",
   "metadata": {},
   "outputs": [],
   "source": [
    "assert user_adoption[user_adoption.user_id == 2]['adopted'].values[0] == True"
   ]
  },
  {
   "cell_type": "code",
   "execution_count": null,
   "id": "193e3804",
   "metadata": {},
   "outputs": [],
   "source": []
  },
  {
   "cell_type": "code",
   "execution_count": 352,
   "id": "beef7e44",
   "metadata": {},
   "outputs": [
    {
     "data": {
      "image/png": "[encoded data removed]",
      "text/plain": [
       "<Figure size 500x300 with 1 Axes>"
      ]
     },
     "metadata": {},
     "output_type": "display_data"
    }
   ],
   "source": [
    "import seaborn as sns\n",
    "\n",
    "# Plot the user adoption counts separate by adopted and not adopted users\n",
    "sns.set_style(\"darkgrid\")\n",
    "import matplotlib.pyplot as plt\n",
    "plt.figure(figsize=(5, 3))\n",
    "adopt_counts = user_adoption['adopted'].value_counts().reset_index()\n",
    "adopt_counts.columns = ['adopted', 'count']\n",
    "sns.barplot(data=adopt_counts, x='adopted', y='count', hue='adopted', palette=['#FF9999', '#66B3FF'])\n",
    "# put percentage on top of bars\n",
    "for index, row in adopt_counts.iterrows():\n",
    "    # plt.text(row.name, row['count'] + 0.5, f\"{row['count']}\", color='black', ha='center')\n",
    "    plt.text(row.name, row['count'] - 0.5, f\"{row['count'] / adopt_counts['count'].sum() * 100:.1f}%\", color='black', ha='center')\n",
    "    \n",
    "plt.xlabel('Adoption Status')\n",
    "plt.ylabel('Number of Users')\n",
    "plt.title('User Adoption Counts')\n",
    "plt.xticks(ticks=[0, 1], labels=['Not Adopted', 'Adopted'])\n",
    "plt.show()\n"
   ]
  },
  {
   "cell_type": "markdown",
   "id": "6453cbda",
   "metadata": {},
   "source": [
    "> Theres an obvious imbalance in the dataset, with a much larger number of users not adopted compared to those who are adopted. This is a common scenario in user engagement datasets, where the majority of users may not engage with the product or service to the extent defined as \"adopted\"."
   ]
  },
  {
   "cell_type": "code",
   "execution_count": 353,
   "id": "c372a395",
   "metadata": {},
   "outputs": [],
   "source": [
    "from sklearn.utils import shuffle, resample\n",
    "# Shuffle the user adoption data\n",
    "\n",
    "majority_class = user_adoption[user_adoption['adopted'] == False]\n",
    "minority_class = user_adoption[user_adoption['adopted'] == True]\n",
    "\n",
    "# Upsample the minority class\n",
    "minority_upsampled = resample(minority_class, \n",
    "                              replace=True,    \n",
    "                              n_samples=len(majority_class),   \n",
    "                              random_state=random_seed) \n",
    "\n",
    "# Combine majority class with upsampled minority class\n",
    "df = pd.concat([majority_class, minority_upsampled])"
   ]
  },
  {
   "cell_type": "code",
   "execution_count": 354,
   "id": "10cda0cb",
   "metadata": {},
   "outputs": [
    {
     "name": "stdout",
     "output_type": "stream",
     "text": [
      "Original class distribution:\n",
      "adopted\n",
      "False    10344\n",
      "True      1656\n",
      "Name: count, dtype: int64\n",
      "\n",
      "After upsampling minority class:\n",
      "adopted\n",
      "False    10344\n",
      "True     10344\n",
      "Name: count, dtype: int64\n"
     ]
    }
   ],
   "source": [
    "print(\"Original class distribution:\")\n",
    "print(user_adoption['adopted'].value_counts())\n",
    "print(\"\\nAfter upsampling minority class:\")\n",
    "print(df['adopted'].value_counts())"
   ]
  },
  {
   "cell_type": "code",
   "execution_count": 355,
   "id": "f19e3a9a",
   "metadata": {},
   "outputs": [
    {
     "data": {
      "text/plain": [
       "(Timestamp('2012-05-31 00:43:27'), Timestamp('2014-05-30 23:59:19'))"
      ]
     },
     "execution_count": 355,
     "metadata": {},
     "output_type": "execute_result"
    }
   ],
   "source": [
    "latest_acct_date = df.creation_time.max()\n",
    "oldest_acct_date = df.creation_time.min()\n",
    "oldest_acct_date,latest_acct_date"
   ]
  },
  {
   "cell_type": "code",
   "execution_count": 356,
   "id": "84a3e0fa",
   "metadata": {},
   "outputs": [
    {
     "name": "stdout",
     "output_type": "stream",
     "text": [
      "<class 'pandas.core.frame.DataFrame'>\n",
      "Index: 20688 entries, 0 to 10643\n",
      "Data columns (total 11 columns):\n",
      " #   Column                      Non-Null Count  Dtype         \n",
      "---  ------                      --------------  -----         \n",
      " 0   user_id                     20688 non-null  int64         \n",
      " 1   creation_time               20688 non-null  datetime64[ns]\n",
      " 2   name                        20688 non-null  object        \n",
      " 3   email                       20688 non-null  object        \n",
      " 4   creation_source             20688 non-null  object        \n",
      " 5   last_session_creation_time  17511 non-null  float64       \n",
      " 6   opted_in_to_mailing_list    20688 non-null  bool          \n",
      " 7   enabled_for_marketing_drip  20688 non-null  bool          \n",
      " 8   org_id                      20688 non-null  category      \n",
      " 9   invited_by_user_id          11313 non-null  float64       \n",
      " 10  adopted                     20688 non-null  bool          \n",
      "dtypes: bool(3), category(1), datetime64[ns](1), float64(2), int64(1), object(3)\n",
      "memory usage: 1.4+ MB\n"
     ]
    }
   ],
   "source": [
    "df.info()"
   ]
  },
  {
   "cell_type": "code",
   "execution_count": 357,
   "id": "e74b0e70",
   "metadata": {},
   "outputs": [],
   "source": [
    "# Feature Engineer columns\n",
    "df['last_session_creation_time'] = pd.to_datetime(df['last_session_creation_time'], unit='s', errors='coerce')\n",
    "\n",
    "df['acct_age'] = (latest_acct_date - df.creation_time).dt.days\n",
    "df['login_age'] = (latest_acct_date - df['last_session_creation_time']).dt.days\n",
    "df['invitee'] = df['invited_by_user_id'].notnull().astype('bool')\n"
   ]
  },
  {
   "cell_type": "code",
   "execution_count": 358,
   "id": "67f98258",
   "metadata": {},
   "outputs": [
    {
     "name": "stdout",
     "output_type": "stream",
     "text": [
      "Unique org id: 417\n",
      "Unique user id: 11998\n",
      "Unique creation source: 5\n"
     ]
    }
   ],
   "source": [
    "print(f'Unique org id: {df.org_id.nunique()}')\n",
    "print(f'Unique user id: {df.user_id.nunique()}')\n",
    "print(f'Unique creation source: {df.creation_source.nunique()}')"
   ]
  },
  {
   "cell_type": "code",
   "execution_count": 359,
   "id": "fecbbded",
   "metadata": {},
   "outputs": [
    {
     "data": {
      "text/plain": [
       "creation_source\n",
       "ORG_INVITE            7260\n",
       "GUEST_INVITE          4053\n",
       "SIGNUP                3662\n",
       "PERSONAL_PROJECTS     3040\n",
       "SIGNUP_GOOGLE_AUTH    2673\n",
       "Name: count, dtype: int64"
      ]
     },
     "execution_count": 359,
     "metadata": {},
     "output_type": "execute_result"
    }
   ],
   "source": [
    "df.creation_source.value_counts()"
   ]
  },
  {
   "cell_type": "code",
   "execution_count": 360,
   "id": "05fa10e2",
   "metadata": {},
   "outputs": [
    {
     "data": {
      "text/html": [
       "<div>\n",
       "<style scoped>\n",
       "    .dataframe tbody tr th:only-of-type {\n",
       "        vertical-align: middle;\n",
       "    }\n",
       "\n",
       "    .dataframe tbody tr th {\n",
       "        vertical-align: top;\n",
       "    }\n",
       "\n",
       "    .dataframe thead th {\n",
       "        text-align: right;\n",
       "    }\n",
       "</style>\n",
       "<table border=\"1\" class=\"dataframe\">\n",
       "  <thead>\n",
       "    <tr style=\"text-align: right;\">\n",
       "      <th></th>\n",
       "      <th>user_id</th>\n",
       "      <th>creation_time</th>\n",
       "      <th>name</th>\n",
       "      <th>email</th>\n",
       "      <th>last_session_creation_time</th>\n",
       "      <th>opted_in_to_mailing_list</th>\n",
       "      <th>enabled_for_marketing_drip</th>\n",
       "      <th>org_id</th>\n",
       "      <th>invited_by_user_id</th>\n",
       "      <th>adopted</th>\n",
       "      <th>acct_age</th>\n",
       "      <th>login_age</th>\n",
       "      <th>invitee</th>\n",
       "      <th>src__GUEST_INVITE</th>\n",
       "      <th>src__ORG_INVITE</th>\n",
       "      <th>src__PERSONAL_PROJECTS</th>\n",
       "      <th>src__SIGNUP</th>\n",
       "      <th>src__SIGNUP_GOOGLE_AUTH</th>\n",
       "    </tr>\n",
       "  </thead>\n",
       "  <tbody>\n",
       "    <tr>\n",
       "      <th>0</th>\n",
       "      <td>1</td>\n",
       "      <td>2014-04-22 03:53:30</td>\n",
       "      <td>Clausen August</td>\n",
       "      <td>AugustCClausen@yahoo.com</td>\n",
       "      <td>2014-04-22 03:53:30</td>\n",
       "      <td>True</td>\n",
       "      <td>False</td>\n",
       "      <td>11</td>\n",
       "      <td>10803.0</td>\n",
       "      <td>False</td>\n",
       "      <td>38</td>\n",
       "      <td>38.0</td>\n",
       "      <td>True</td>\n",
       "      <td>True</td>\n",
       "      <td>False</td>\n",
       "      <td>False</td>\n",
       "      <td>False</td>\n",
       "      <td>False</td>\n",
       "    </tr>\n",
       "    <tr>\n",
       "      <th>2</th>\n",
       "      <td>3</td>\n",
       "      <td>2013-03-19 23:14:52</td>\n",
       "      <td>Bottrill Mitchell</td>\n",
       "      <td>MitchellBottrill@gustr.com</td>\n",
       "      <td>2013-03-19 23:14:52</td>\n",
       "      <td>False</td>\n",
       "      <td>False</td>\n",
       "      <td>94</td>\n",
       "      <td>1525.0</td>\n",
       "      <td>False</td>\n",
       "      <td>437</td>\n",
       "      <td>437.0</td>\n",
       "      <td>True</td>\n",
       "      <td>False</td>\n",
       "      <td>True</td>\n",
       "      <td>False</td>\n",
       "      <td>False</td>\n",
       "      <td>False</td>\n",
       "    </tr>\n",
       "    <tr>\n",
       "      <th>3</th>\n",
       "      <td>4</td>\n",
       "      <td>2013-05-21 08:09:28</td>\n",
       "      <td>Clausen Nicklas</td>\n",
       "      <td>NicklasSClausen@yahoo.com</td>\n",
       "      <td>2013-05-22 08:09:28</td>\n",
       "      <td>False</td>\n",
       "      <td>False</td>\n",
       "      <td>1</td>\n",
       "      <td>5151.0</td>\n",
       "      <td>False</td>\n",
       "      <td>374</td>\n",
       "      <td>373.0</td>\n",
       "      <td>True</td>\n",
       "      <td>True</td>\n",
       "      <td>False</td>\n",
       "      <td>False</td>\n",
       "      <td>False</td>\n",
       "      <td>False</td>\n",
       "    </tr>\n",
       "    <tr>\n",
       "      <th>4</th>\n",
       "      <td>5</td>\n",
       "      <td>2013-01-17 10:14:20</td>\n",
       "      <td>Raw Grace</td>\n",
       "      <td>GraceRaw@yahoo.com</td>\n",
       "      <td>2013-01-22 10:14:20</td>\n",
       "      <td>False</td>\n",
       "      <td>False</td>\n",
       "      <td>193</td>\n",
       "      <td>5240.0</td>\n",
       "      <td>False</td>\n",
       "      <td>498</td>\n",
       "      <td>493.0</td>\n",
       "      <td>True</td>\n",
       "      <td>True</td>\n",
       "      <td>False</td>\n",
       "      <td>False</td>\n",
       "      <td>False</td>\n",
       "      <td>False</td>\n",
       "    </tr>\n",
       "    <tr>\n",
       "      <th>5</th>\n",
       "      <td>6</td>\n",
       "      <td>2013-12-17 03:37:06</td>\n",
       "      <td>Cunha Eduardo</td>\n",
       "      <td>EduardoPereiraCunha@yahoo.com</td>\n",
       "      <td>2013-12-19 03:37:06</td>\n",
       "      <td>False</td>\n",
       "      <td>False</td>\n",
       "      <td>197</td>\n",
       "      <td>11241.0</td>\n",
       "      <td>False</td>\n",
       "      <td>164</td>\n",
       "      <td>162.0</td>\n",
       "      <td>True</td>\n",
       "      <td>True</td>\n",
       "      <td>False</td>\n",
       "      <td>False</td>\n",
       "      <td>False</td>\n",
       "      <td>False</td>\n",
       "    </tr>\n",
       "  </tbody>\n",
       "</table>\n",
       "</div>"
      ],
      "text/plain": [
       "   user_id       creation_time               name  \\\n",
       "0        1 2014-04-22 03:53:30     Clausen August   \n",
       "2        3 2013-03-19 23:14:52  Bottrill Mitchell   \n",
       "3        4 2013-05-21 08:09:28    Clausen Nicklas   \n",
       "4        5 2013-01-17 10:14:20          Raw Grace   \n",
       "5        6 2013-12-17 03:37:06      Cunha Eduardo   \n",
       "\n",
       "                           email last_session_creation_time  \\\n",
       "0       AugustCClausen@yahoo.com        2014-04-22 03:53:30   \n",
       "2     MitchellBottrill@gustr.com        2013-03-19 23:14:52   \n",
       "3      NicklasSClausen@yahoo.com        2013-05-22 08:09:28   \n",
       "4             GraceRaw@yahoo.com        2013-01-22 10:14:20   \n",
       "5  EduardoPereiraCunha@yahoo.com        2013-12-19 03:37:06   \n",
       "\n",
       "   opted_in_to_mailing_list  enabled_for_marketing_drip org_id  \\\n",
       "0                      True                       False     11   \n",
       "2                     False                       False     94   \n",
       "3                     False                       False      1   \n",
       "4                     False                       False    193   \n",
       "5                     False                       False    197   \n",
       "\n",
       "   invited_by_user_id  adopted  acct_age  login_age  invitee  \\\n",
       "0             10803.0    False        38       38.0     True   \n",
       "2              1525.0    False       437      437.0     True   \n",
       "3              5151.0    False       374      373.0     True   \n",
       "4              5240.0    False       498      493.0     True   \n",
       "5             11241.0    False       164      162.0     True   \n",
       "\n",
       "   src__GUEST_INVITE  src__ORG_INVITE  src__PERSONAL_PROJECTS  src__SIGNUP  \\\n",
       "0               True            False                   False        False   \n",
       "2              False             True                   False        False   \n",
       "3               True            False                   False        False   \n",
       "4               True            False                   False        False   \n",
       "5               True            False                   False        False   \n",
       "\n",
       "   src__SIGNUP_GOOGLE_AUTH  \n",
       "0                    False  \n",
       "2                    False  \n",
       "3                    False  \n",
       "4                    False  \n",
       "5                    False  "
      ]
     },
     "execution_count": 360,
     "metadata": {},
     "output_type": "execute_result"
    }
   ],
   "source": [
    "df = pd.get_dummies(df, columns=['creation_source'], prefix='src_')\n",
    "df.head()"
   ]
  },
  {
   "cell_type": "markdown",
   "id": "c3cccef7",
   "metadata": {},
   "source": [
    "> Interpretability: As the goal is to interpret the influence of each category on the classification outcome, dropping one category can make interpretation slightly more complex. \\\n",
    "> Note on Tree-based Models: For tree-based models such as Random Forests or XGBoost, setting drop_first=False is typically fine. These models don't assume feature relationships in the same way linear models do, making them less susceptible to the effects of multicollinearity from one-hot encoded variables."
   ]
  },
  {
   "cell_type": "code",
   "execution_count": 361,
   "id": "c1ecfa9e",
   "metadata": {},
   "outputs": [
    {
     "name": "stdout",
     "output_type": "stream",
     "text": [
      "<class 'pandas.core.frame.DataFrame'>\n",
      "Index: 20688 entries, 0 to 10643\n",
      "Data columns (total 18 columns):\n",
      " #   Column                      Non-Null Count  Dtype         \n",
      "---  ------                      --------------  -----         \n",
      " 0   user_id                     20688 non-null  int64         \n",
      " 1   creation_time               20688 non-null  datetime64[ns]\n",
      " 2   name                        20688 non-null  object        \n",
      " 3   email                       20688 non-null  object        \n",
      " 4   last_session_creation_time  17511 non-null  datetime64[ns]\n",
      " 5   opted_in_to_mailing_list    20688 non-null  bool          \n",
      " 6   enabled_for_marketing_drip  20688 non-null  bool          \n",
      " 7   org_id                      20688 non-null  category      \n",
      " 8   invited_by_user_id          11313 non-null  float64       \n",
      " 9   adopted                     20688 non-null  bool          \n",
      " 10  acct_age                    20688 non-null  int64         \n",
      " 11  login_age                   17511 non-null  float64       \n",
      " 12  invitee                     20688 non-null  bool          \n",
      " 13  src__GUEST_INVITE           20688 non-null  bool          \n",
      " 14  src__ORG_INVITE             20688 non-null  bool          \n",
      " 15  src__PERSONAL_PROJECTS      20688 non-null  bool          \n",
      " 16  src__SIGNUP                 20688 non-null  bool          \n",
      " 17  src__SIGNUP_GOOGLE_AUTH     20688 non-null  bool          \n",
      "dtypes: bool(9), category(1), datetime64[ns](2), float64(2), int64(2), object(2)\n",
      "memory usage: 1.7+ MB\n"
     ]
    }
   ],
   "source": [
    "df.info()"
   ]
  },
  {
   "cell_type": "code",
   "execution_count": 365,
   "id": "6550f559",
   "metadata": {},
   "outputs": [],
   "source": [
    "# select features\n",
    "feats = ['opted_in_to_mailing_list', 'enabled_for_marketing_drip', 'login_age', 'acct_age', 'invitee']\n",
    "feats += [col for col in df.columns if col.startswith('src_')]"
   ]
  },
  {
   "cell_type": "code",
   "execution_count": 366,
   "id": "f48c9c62",
   "metadata": {},
   "outputs": [],
   "source": [
    "X = df[feats]\n",
    "y = df['adopted']"
   ]
  },
  {
   "cell_type": "code",
   "execution_count": null,
   "id": "1dfe91bd",
   "metadata": {},
   "outputs": [],
   "source": [
    "# Train-Test split\n",
    "from sklearn.model_selection import train_test_split\n",
    "X_train, X_test, y_train, y_test = train_test_split(X, y, stratify=y, random_state=random_seed, test_size=0.2)"
   ]
  },
  {
   "cell_type": "code",
   "execution_count": null,
   "id": "9dc99fb2",
   "metadata": {},
   "outputs": [],
   "source": [
    "# Use hyperopt to optimize a Random Forest Classifier\n",
    "\n",
    "from hyperopt import fmin, tpe, hp, Trials, space_eval\n",
    "from sklearn.ensemble import RandomForestClassifier \n"
   ]
  },
  {
   "cell_type": "markdown",
   "id": "6caa0add",
   "metadata": {},
   "source": [
    "Use class_weight in models (e.g., for sklearn classifiers)"
   ]
  },
  {
   "cell_type": "code",
   "execution_count": null,
   "id": "fe7616a2",
   "metadata": {},
   "outputs": [],
   "source": []
  },
  {
   "cell_type": "markdown",
   "id": "c80eae9a",
   "metadata": {},
   "source": [
    "Use evaluation metrics suitable for imbalance (precision, recall, f1, ROC-AUC)"
   ]
  }
 ],
 "metadata": {
  "kernelspec": {
   "display_name": "base",
   "language": "python",
   "name": "python3"
  },
  "language_info": {
   "codemirror_mode": {
    "name": "ipython",
    "version": 3
   },
   "file_extension": ".py",
   "mimetype": "text/x-python",
   "name": "python",
   "nbconvert_exporter": "python",
   "pygments_lexer": "ipython3",
   "version": "3.12.4"
  }
 },
 "nbformat": 4,
 "nbformat_minor": 5
}
